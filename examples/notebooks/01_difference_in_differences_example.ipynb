{
 "cells": [
  {
   "cell_type": "markdown",
   "metadata": {},
   "source": [
    "# Difference-in-Differences Analysis Example\n",
    "\n",
    "This notebook demonstrates how to use the restructured causal inference library for a comprehensive DiD analysis.\n",
    "\n",
    "## Overview\n",
    "Difference-in-Differences (DiD) is a quasi-experimental design that compares the changes in outcomes over time between a treatment group and a control group."
   ]
  },
  {
   "cell_type": "code",
   "execution_count": 1,
   "metadata": {},
   "outputs": [],
   "source": [
    "# Import necessary libraries\n",
    "import sys\n",
    "import os\n",
    "import pandas as pd\n",
    "import numpy as np\n",
    "import matplotlib.pyplot as plt\n",
    "import seaborn as sns\n",
    "\n",
    "# Add the parent directory to the path so we can import our library\n",
    "sys.path.append(os.path.join(os.path.dirname(os.getcwd()), '..'))\n",
    "\n",
    "from causal_inference.methods import DifferenceInDifferences\n",
    "from causal_inference.datasets import generate_did_data\n",
    "from causal_inference.utils import validate_panel_data\n",
    "\n",
    "# Set style for plots\n",
    "plt.style.use('seaborn-v0_8')\n",
    "sns.set_palette(\"husl\")"
   ]
  },
  {
   "cell_type": "markdown",
   "metadata": {},
   "source": [
    "## 1. Generate Synthetic Data\n",
    "\n",
    "We'll start by generating synthetic data that mimics a typical DiD setup."
   ]
  },
  {
   "cell_type": "code",
   "execution_count": 2,
   "metadata": {},
   "outputs": [
    {
     "name": "stdout",
     "output_type": "stream",
     "text": [
      "Generating synthetic DiD data...\n",
      "Generated data with 1000 observations\n",
      "Data shape: (1000, 5)\n",
      "\n",
      "First few rows:\n"
     ]
    },
    {
     "data": {
      "text/html": [
       "<div>\n",
       "<style scoped>\n",
       "    .dataframe tbody tr th:only-of-type {\n",
       "        vertical-align: middle;\n",
       "    }\n",
       "\n",
       "    .dataframe tbody tr th {\n",
       "        vertical-align: top;\n",
       "    }\n",
       "\n",
       "    .dataframe thead th {\n",
       "        text-align: right;\n",
       "    }\n",
       "</style>\n",
       "<table border=\"1\" class=\"dataframe\">\n",
       "  <thead>\n",
       "    <tr style=\"text-align: right;\">\n",
       "      <th></th>\n",
       "      <th>unit_id</th>\n",
       "      <th>period</th>\n",
       "      <th>treated</th>\n",
       "      <th>post</th>\n",
       "      <th>outcome</th>\n",
       "    </tr>\n",
       "  </thead>\n",
       "  <tbody>\n",
       "    <tr>\n",
       "      <th>0</th>\n",
       "      <td>1</td>\n",
       "      <td>1</td>\n",
       "      <td>1</td>\n",
       "      <td>0</td>\n",
       "      <td>1.371343</td>\n",
       "    </tr>\n",
       "    <tr>\n",
       "      <th>1</th>\n",
       "      <td>1</td>\n",
       "      <td>2</td>\n",
       "      <td>1</td>\n",
       "      <td>0</td>\n",
       "      <td>3.320693</td>\n",
       "    </tr>\n",
       "    <tr>\n",
       "      <th>2</th>\n",
       "      <td>1</td>\n",
       "      <td>3</td>\n",
       "      <td>1</td>\n",
       "      <td>0</td>\n",
       "      <td>2.639747</td>\n",
       "    </tr>\n",
       "    <tr>\n",
       "      <th>3</th>\n",
       "      <td>1</td>\n",
       "      <td>4</td>\n",
       "      <td>1</td>\n",
       "      <td>0</td>\n",
       "      <td>1.584320</td>\n",
       "    </tr>\n",
       "    <tr>\n",
       "      <th>4</th>\n",
       "      <td>1</td>\n",
       "      <td>5</td>\n",
       "      <td>1</td>\n",
       "      <td>0</td>\n",
       "      <td>1.328921</td>\n",
       "    </tr>\n",
       "    <tr>\n",
       "      <th>5</th>\n",
       "      <td>1</td>\n",
       "      <td>6</td>\n",
       "      <td>1</td>\n",
       "      <td>1</td>\n",
       "      <td>2.014733</td>\n",
       "    </tr>\n",
       "    <tr>\n",
       "      <th>6</th>\n",
       "      <td>1</td>\n",
       "      <td>7</td>\n",
       "      <td>1</td>\n",
       "      <td>1</td>\n",
       "      <td>5.031346</td>\n",
       "    </tr>\n",
       "    <tr>\n",
       "      <th>7</th>\n",
       "      <td>1</td>\n",
       "      <td>8</td>\n",
       "      <td>1</td>\n",
       "      <td>1</td>\n",
       "      <td>4.792749</td>\n",
       "    </tr>\n",
       "    <tr>\n",
       "      <th>8</th>\n",
       "      <td>1</td>\n",
       "      <td>9</td>\n",
       "      <td>1</td>\n",
       "      <td>1</td>\n",
       "      <td>3.199792</td>\n",
       "    </tr>\n",
       "    <tr>\n",
       "      <th>9</th>\n",
       "      <td>1</td>\n",
       "      <td>10</td>\n",
       "      <td>1</td>\n",
       "      <td>1</td>\n",
       "      <td>5.279969</td>\n",
       "    </tr>\n",
       "  </tbody>\n",
       "</table>\n",
       "</div>"
      ],
      "text/plain": [
       "   unit_id  period  treated  post   outcome\n",
       "0        1       1        1     0  1.371343\n",
       "1        1       2        1     0  3.320693\n",
       "2        1       3        1     0  2.639747\n",
       "3        1       4        1     0  1.584320\n",
       "4        1       5        1     0  1.328921\n",
       "5        1       6        1     1  2.014733\n",
       "6        1       7        1     1  5.031346\n",
       "7        1       8        1     1  4.792749\n",
       "8        1       9        1     1  3.199792\n",
       "9        1      10        1     1  5.279969"
      ]
     },
     "execution_count": 2,
     "metadata": {},
     "output_type": "execute_result"
    }
   ],
   "source": [
    "# Generate synthetic data\n",
    "print(\"Generating synthetic DiD data...\")\n",
    "data = generate_did_data(\n",
    "    n_units=100,           # 100 units (e.g., stores, individuals)\n",
    "    n_periods=10,          # 10 time periods\n",
    "    treatment_period=6,    # Treatment starts in period 6\n",
    "    treatment_effect=2.5,  # True treatment effect\n",
    "    noise_std=1.0,         # Standard deviation of noise\n",
    "    random_seed=42         # For reproducibility\n",
    ")\n",
    "\n",
    "print(f\"Generated data with {len(data)} observations\")\n",
    "print(f\"Data shape: {data.shape}\")\n",
    "print(\"\\nFirst few rows:\")\n",
    "data.head(10)"
   ]
  },
  {
   "cell_type": "markdown",
   "metadata": {},
   "source": [
    "## 2. Data Validation\n",
    "\n",
    "Before running the analysis, let's validate our data structure."
   ]
  },
  {
   "cell_type": "code",
   "execution_count": 3,
   "metadata": {},
   "outputs": [
    {
     "name": "stdout",
     "output_type": "stream",
     "text": [
      "✓ Data validation completed:\n",
      "  Units: 100 (Treatment: 50, Control: 50)\n",
      "  Time periods: 10\n",
      "  Panel balance: Balanced\n",
      "  Completeness: 100.0%\n",
      "\n",
      "Data validation results:\n",
      "  n_units: 100\n",
      "  n_periods: 10\n",
      "  expected_observations: 1000\n",
      "  actual_observations: 1000\n",
      "  is_balanced: True\n",
      "  completeness_rate: 1.0\n",
      "  treatment_units: 50\n",
      "  control_units: 50\n",
      "  treatment_share: 0.5\n"
     ]
    }
   ],
   "source": [
    "# Validate the panel data structure\n",
    "validation_results = validate_panel_data(\n",
    "    data, \n",
    "    unit_var='unit_id', \n",
    "    time_var='period',\n",
    "    outcome_var='outcome', \n",
    "    treatment_var='treated'\n",
    ")\n",
    "\n",
    "print(\"\\nData validation results:\")\n",
    "for key, value in validation_results.items():\n",
    "    print(f\"  {key}: {value}\")"
   ]
  },
  {
   "cell_type": "markdown",
   "metadata": {},
   "source": [
    "## 3. Initialize DiD Estimator\n",
    "\n",
    "Now let's initialize our DiD estimator with the data."
   ]
  },
  {
   "cell_type": "code",
   "execution_count": 4,
   "metadata": {},
   "outputs": [
    {
     "name": "stdout",
     "output_type": "stream",
     "text": [
      "Initializing DiD estimator...\n",
      "✓ Data validation passed\n",
      "  - Units: 100\n",
      "  - Time periods: 10\n",
      "  - Treatment units: 50\n",
      "  - Control units: 50\n",
      "\n",
      "DiD estimator initialized successfully!\n"
     ]
    }
   ],
   "source": [
    "# Initialize DiD estimator\n",
    "print(\"Initializing DiD estimator...\")\n",
    "did = DifferenceInDifferences(\n",
    "    data=data,\n",
    "    outcome_var='outcome',\n",
    "    unit_var='unit_id',\n",
    "    time_var='period',\n",
    "    treatment_var='treated',\n",
    "    post_var='post',\n",
    "    treatment_start=6\n",
    ")\n",
    "\n",
    "print(\"\\nDiD estimator initialized successfully!\")"
   ]
  },
  {
   "cell_type": "markdown",
   "metadata": {},
   "source": [
    "## 4. Basic DiD Estimation\n",
    "\n",
    "Let's start with the basic 2x2 DiD estimation using group means."
   ]
  },
  {
   "cell_type": "code",
   "execution_count": 5,
   "metadata": {},
   "outputs": [
    {
     "name": "stdout",
     "output_type": "stream",
     "text": [
      "\n",
      "============================================================\n",
      "BASIC DiD ESTIMATION (2x2 Design)\n",
      "============================================================\n",
      "Group means:\n",
      "  Control - Pre: 0.77\n",
      "  Control - Post: 1.43\n",
      "  Treatment - Pre: -0.02\n",
      "  Treatment - Post: 3.29\n",
      "\n",
      "Differences:\n",
      "  Control group change: 0.65\n",
      "  Treatment group change: 3.31\n",
      "  DiD estimate: 2.65\n",
      "\n",
      "Basic DiD Results Summary:\n",
      "True treatment effect: 2.5\n",
      "Estimated treatment effect: 2.654\n",
      "Estimation error: 0.154\n"
     ]
    }
   ],
   "source": [
    "# Run basic DiD estimation\n",
    "basic_results = did.estimate_basic_did()\n",
    "\n",
    "print(\"\\nBasic DiD Results Summary:\")\n",
    "print(f\"True treatment effect: 2.5\")\n",
    "print(f\"Estimated treatment effect: {basic_results['did_estimate']:.3f}\")\n",
    "print(f\"Estimation error: {abs(basic_results['did_estimate'] - 2.5):.3f}\")"
   ]
  },
  {
   "cell_type": "markdown",
   "metadata": {},
   "source": [
    "## 5. Regression-Based DiD\n",
    "\n",
    "Now let's run the regression-based DiD estimation which provides standard errors and statistical tests."
   ]
  },
  {
   "cell_type": "code",
   "execution_count": 6,
   "metadata": {},
   "outputs": [
    {
     "name": "stdout",
     "output_type": "stream",
     "text": [
      "\n",
      "============================================================\n",
      "REGRESSION-BASED DiD ESTIMATION\n",
      "============================================================\n",
      "Regression results:\n",
      "  Intercept (Control, Pre): 0.77\n",
      "  Treatment Group Effect: -0.79\n",
      "  Post Period Effect: 0.65\n",
      "  DiD Effect: 2.65\n",
      "  p-value: 0.0000\n",
      "  95% CI: [2.09, 3.22]\n",
      "  R²: 0.224\n",
      "✓ STATISTICALLY SIGNIFICANT at 5% level\n",
      "\n",
      "Regression DiD Results:\n",
      "Coefficient: 2.654\n",
      "Standard Error: 0.289\n",
      "P-value: 0.0000\n",
      "95% CI: [2.088, 3.221]\n"
     ]
    }
   ],
   "source": [
    "# Run regression-based DiD estimation\n",
    "regression_results = did.estimate_regression_did(robust_se=True)\n",
    "\n",
    "print(\"\\nRegression DiD Results:\")\n",
    "print(f\"Coefficient: {regression_results['did_coefficient']:.3f}\")\n",
    "print(f\"Standard Error: {regression_results['model'].bse['did_term']:.3f}\")\n",
    "print(f\"P-value: {regression_results['did_pvalue']:.4f}\")\n",
    "print(f\"95% CI: [{regression_results['did_confidence_interval'][0]:.3f}, {regression_results['did_confidence_interval'][1]:.3f}]\")"
   ]
  },
  {
   "cell_type": "markdown",
   "metadata": {},
   "source": [
    "## 6. Assumption Checks\n",
    "\n",
    "DiD relies on several key assumptions. Let's check them systematically."
   ]
  },
  {
   "cell_type": "markdown",
   "metadata": {},
   "source": [
    "### 6.1 Parallel Trends Assumption"
   ]
  },
  {
   "cell_type": "code",
   "execution_count": 7,
   "metadata": {},
   "outputs": [
    {
     "name": "stdout",
     "output_type": "stream",
     "text": [
      "\n",
      "============================================================\n",
      "ASSUMPTION CHECK: PARALLEL TRENDS\n",
      "============================================================\n",
      "Pre-treatment trends:\n",
      "  Treatment group slope: 0.242 (p-value: 0.280)\n",
      "  Control group slope: 0.232 (p-value: 0.238)\n",
      "  Difference in slopes: 0.010\n",
      "  Statistical test p-value: 0.943\n",
      "✓ PARALLEL TRENDS: ASSUMPTION SATISFIED (p > 0.05)\n"
     ]
    },
    {
     "data": {
      "image/png": "[encoded data removed]",
      "text/plain": [
       "<Figure size 1000x600 with 1 Axes>"
      ]
     },
     "metadata": {},
     "output_type": "display_data"
    },
    {
     "name": "stdout",
     "output_type": "stream",
     "text": [
      "\n",
      "Parallel Trends Test:\n",
      "Treatment group slope: 0.242\n",
      "Control group slope: 0.232\n",
      "Statistical test p-value: 0.943\n",
      "Assumption satisfied: True\n"
     ]
    }
   ],
   "source": [
    "# Check parallel trends assumption\n",
    "parallel_trends = did.check_parallel_trends(plot=True)\n",
    "\n",
    "print(f\"\\nParallel Trends Test:\")\n",
    "print(f\"Treatment group slope: {parallel_trends['treatment_slope']:.3f}\")\n",
    "print(f\"Control group slope: {parallel_trends['control_slope']:.3f}\")\n",
    "print(f\"Statistical test p-value: {parallel_trends['trend_test_pvalue']:.3f}\")\n",
    "print(f\"Assumption satisfied: {parallel_trends['assumption_satisfied']}\")"
   ]
  },
  {
   "cell_type": "markdown",
   "metadata": {},
   "source": [
    "### 6.2 Common Shocks Assumption"
   ]
  },
  {
   "cell_type": "code",
   "execution_count": 8,
   "metadata": {},
   "outputs": [
    {
     "name": "stdout",
     "output_type": "stream",
     "text": [
      "\n",
      "============================================================\n",
      "ASSUMPTION CHECK: NO DIFFERENTIAL SHOCKS\n",
      "============================================================\n",
      "Volatility comparison:\n",
      "  Treatment group volatility: 15.7040\n",
      "  Control group volatility: 27.6206\n",
      "  Ratio: 0.57\n",
      "  Levene's test p-value: 0.657\n",
      "✓ COMMON SHOCKS: ASSUMPTION SATISFIED\n",
      "\n",
      "Common Shocks Test:\n",
      "Treatment volatility: 15.7040\n",
      "Control volatility: 27.6206\n",
      "Levene's test p-value: 0.657\n",
      "Assumption satisfied: True\n"
     ]
    }
   ],
   "source": [
    "# Check for differential shocks\n",
    "common_shocks = did.check_common_shocks()\n",
    "\n",
    "print(f\"\\nCommon Shocks Test:\")\n",
    "print(f\"Treatment volatility: {common_shocks['treatment_volatility']:.4f}\")\n",
    "print(f\"Control volatility: {common_shocks['control_volatility']:.4f}\")\n",
    "print(f\"Levene's test p-value: {common_shocks['levene_pvalue']:.3f}\")\n",
    "print(f\"Assumption satisfied: {common_shocks['assumption_satisfied']}\")"
   ]
  },
  {
   "cell_type": "markdown",
   "metadata": {},
   "source": [
    "### 6.3 Composition Stability"
   ]
  },
  {
   "cell_type": "code",
   "execution_count": 9,
   "metadata": {},
   "outputs": [
    {
     "name": "stdout",
     "output_type": "stream",
     "text": [
      "\n",
      "============================================================\n",
      "ASSUMPTION CHECK: STABLE COMPOSITION\n",
      "============================================================\n",
      "Composition analysis:\n",
      "  Total units: 100\n",
      "  Units per period range: 100 - 100\n",
      "  Completeness rate: 100.00%\n",
      "✓ COMPOSITION STABILITY: BALANCED PANEL\n",
      "\n",
      "Composition Stability:\n",
      "Total units: 100\n",
      "Balanced panel: True\n",
      "Completeness rate: 100.00%\n",
      "Assumption satisfied: True\n"
     ]
    }
   ],
   "source": [
    "# Check composition stability\n",
    "composition = did.check_composition_stability()\n",
    "\n",
    "print(f\"\\nComposition Stability:\")\n",
    "print(f\"Total units: {composition['total_units']}\")\n",
    "print(f\"Balanced panel: {composition['is_balanced']}\")\n",
    "print(f\"Completeness rate: {composition['completeness_rate']:.2%}\")\n",
    "print(f\"Assumption satisfied: {composition['assumption_satisfied']}\")"
   ]
  },
  {
   "cell_type": "markdown",
   "metadata": {},
   "source": [
    "## 7. Robustness Checks\n",
    "\n",
    "Let's run some robustness checks to validate our findings."
   ]
  },
  {
   "cell_type": "markdown",
   "metadata": {},
   "source": [
    "### 7.1 Placebo Test"
   ]
  },
  {
   "cell_type": "code",
   "execution_count": 10,
   "metadata": {},
   "outputs": [
    {
     "name": "stdout",
     "output_type": "stream",
     "text": [
      "\n",
      "============================================================\n",
      "ROBUSTNESS CHECK: PLACEBO TEST\n",
      "============================================================\n",
      "Placebo test (fake treatment at 3.0):\n",
      "  Placebo DiD coefficient: -0.00\n",
      "  p-value: 0.9929\n",
      "✓ PLACEBO TEST PASSED (no false positive)\n",
      "\n",
      "Placebo Test:\n",
      "Fake treatment time: 3.0\n",
      "Placebo coefficient: -0.004\n",
      "P-value: 0.9929\n",
      "Test passed: True\n"
     ]
    }
   ],
   "source": [
    "# Run placebo test\n",
    "placebo_results = did.placebo_test()\n",
    "\n",
    "print(f\"\\nPlacebo Test:\")\n",
    "print(f\"Fake treatment time: {placebo_results['fake_treatment_time']}\")\n",
    "print(f\"Placebo coefficient: {placebo_results['placebo_coefficient']:.3f}\")\n",
    "print(f\"P-value: {placebo_results['placebo_pvalue']:.4f}\")\n",
    "print(f\"Test passed: {placebo_results['test_passed']}\")"
   ]
  },
  {
   "cell_type": "markdown",
   "metadata": {},
   "source": [
    "## 8. Complete Analysis Summary\n",
    "\n",
    "Let's get a comprehensive summary of our analysis."
   ]
  },
  {
   "cell_type": "code",
   "execution_count": 11,
   "metadata": {},
   "outputs": [
    {
     "name": "stdout",
     "output_type": "stream",
     "text": [
      "\n",
      "============================================================\n",
      "ANALYSIS SUMMARY\n",
      "============================================================\n",
      "Assumption Checks:\n",
      "  Parallel Trends: ✓ PASSED\n",
      "  Common Shocks: ✓ PASSED\n",
      "  Composition Stability: ✓ PASSED\n",
      "\n",
      "DiD Estimates:\n",
      "  Basic DiD: 2.65\n",
      "  Regression DiD: 2.65 (p=0.000)\n",
      "\n",
      "Robustness Checks:\n",
      "  Placebo Test: ✓ PASSED\n",
      "\n",
      "==================================================\n",
      "FORMATTED SUMMARY\n",
      "==================================================\n",
      "Difference-in-Differences Estimation Results\n",
      "==================================================\n",
      "DiD Estimate: 2.654\n",
      "Treatment Group Change: 3.308\n",
      "Control Group Change: 0.654\n"
     ]
    }
   ],
   "source": [
    "# Print comprehensive summary\n",
    "did.print_summary()\n",
    "\n",
    "# Also show the summary method from the base class\n",
    "print(\"\\n\" + \"=\"*50)\n",
    "print(\"FORMATTED SUMMARY\")\n",
    "print(\"=\"*50)\n",
    "print(did.summary())"
   ]
  },
  {
   "cell_type": "markdown",
   "metadata": {},
   "source": [
    "## 9. Accessing Results Programmatically\n",
    "\n",
    "All results are stored and can be accessed programmatically for further analysis."
   ]
  },
  {
   "cell_type": "code",
   "execution_count": 12,
   "metadata": {},
   "outputs": [
    {
     "name": "stdout",
     "output_type": "stream",
     "text": [
      "Programmatic access to results:\n",
      "Basic DiD estimate: 2.654\n",
      "Regression DiD estimate: 2.654\n",
      "Regression p-value: 0.0000\n",
      "R-squared: 0.224\n",
      "\n",
      "Available result keys: ['basic_did', 'regression_did', 'placebo_test']\n"
     ]
    }
   ],
   "source": [
    "# Access results programmatically\n",
    "print(\"Programmatic access to results:\")\n",
    "print(f\"Basic DiD estimate: {basic_results['did_estimate']:.3f}\")\n",
    "print(f\"Regression DiD estimate: {regression_results['did_coefficient']:.3f}\")\n",
    "print(f\"Regression p-value: {regression_results['did_pvalue']:.4f}\")\n",
    "print(f\"R-squared: {regression_results['r_squared']:.3f}\")\n",
    "\n",
    "# Access all stored results\n",
    "all_results = did.get_results()\n",
    "print(f\"\\nAvailable result keys: {list(all_results.keys())}\")"
   ]
  },
  {
   "cell_type": "markdown",
   "metadata": {},
   "source": [
    "## 10. Conclusion\n",
    "\n",
    "This example demonstrated:\n",
    "\n",
    "1. **Data Generation**: Using synthetic data that mimics real-world scenarios\n",
    "2. **Data Validation**: Ensuring data quality before analysis\n",
    "3. **Multiple Estimation Methods**: Basic and regression-based DiD\n",
    "4. **Assumption Testing**: Systematic checks of DiD assumptions\n",
    "5. **Robustness Checks**: Placebo tests to validate findings\n",
    "6. **Result Access**: Both human-readable summaries and programmatic access\n",
    "\n",
    "The new library structure provides:\n",
    "- **Modularity**: Clear separation of concerns\n",
    "- **Extensibility**: Easy to add new methods\n",
    "- **Reliability**: Comprehensive testing and validation\n",
    "- **Usability**: Both interactive and programmatic interfaces\n",
    "\n",
    "### Next Steps\n",
    "- Try with your own data\n",
    "- Explore other methods (PSM, RDD)\n",
    "- Add custom covariates and controls\n",
    "- Experiment with different specifications"
   ]
  }
 ],
 "metadata": {
  "kernelspec": {
   "display_name": "venv",
   "language": "python",
   "name": "python3"
  },
  "language_info": {
   "codemirror_mode": {
    "name": "ipython",
    "version": 3
   },
   "file_extension": ".py",
   "mimetype": "text/x-python",
   "name": "python",
   "nbconvert_exporter": "python",
   "pygments_lexer": "ipython3",
   "version": "3.12.7"
  }
 },
 "nbformat": 4,
 "nbformat_minor": 4
}
